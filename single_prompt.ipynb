{
 "cells": [
  {
   "cell_type": "markdown",
   "metadata": {},
   "source": [
    "### Importing Packages"
   ]
  },
  {
   "cell_type": "code",
   "execution_count": 5,
   "metadata": {},
   "outputs": [],
   "source": [
    "import requests"
   ]
  },
  {
   "cell_type": "markdown",
   "metadata": {},
   "source": [
    "### Defining the response function\n",
    "\n",
    "This function should take in the prompt and return the JSON output. It can support only one prompt and one response"
   ]
  },
  {
   "cell_type": "code",
   "execution_count": 6,
   "metadata": {},
   "outputs": [],
   "source": [
    "def get_response(prompt, api_key, api_url):\n",
    "\n",
    "    user_input = prompt\n",
    "\n",
    "    # Configuration\n",
    "    headers = {\n",
    "        \"Content-Type\": \"application/json\",\n",
    "        \"api-key\": api_key,\n",
    "    }\n",
    "\n",
    "    # Payload for the request\n",
    "    payload = {\n",
    "        \"messages\": [\n",
    "            {\n",
    "                \"role\": \"system\",\n",
    "                \"content\": [\n",
    "                    {\n",
    "                        \"type\": \"text\",\n",
    "                        \"text\": \"You are an AI assistant that helps people find information.\",\n",
    "                    }\n",
    "                ],\n",
    "            },\n",
    "            {\n",
    "                \"role\": \"user\",\n",
    "                \"content\": [\n",
    "                    {\n",
    "                        \"type\": \"text\",\n",
    "                        \"text\": user_input,\n",
    "                    }\n",
    "                ],\n",
    "            },\n",
    "        ],\n",
    "        \"temperature\": 0.7,\n",
    "        \"top_p\": 0.95,\n",
    "        \"max_tokens\": 800,\n",
    "    }\n",
    "\n",
    "    # Send request\n",
    "    try:\n",
    "        response = requests.post(api_url, headers=headers, json=payload)\n",
    "        response.raise_for_status()  # Will raise an HTTPError if the HTTP request returned an unsuccessful status code\n",
    "\n",
    "        return response\n",
    "    except requests.RequestException as e:\n",
    "        raise SystemExit(f\"Failed to make the request. Error: {e}\")"
   ]
  },
  {
   "cell_type": "markdown",
   "metadata": {},
   "source": [
    "### Run the function\n",
    "\n",
    "This should take in a single prompt from the user"
   ]
  },
  {
   "cell_type": "code",
   "execution_count": 7,
   "metadata": {},
   "outputs": [
    {
     "name": "stdout",
     "output_type": "stream",
     "text": [
      "User Prompt: Hello\n",
      "Response: Hi there! How can I assist you today?\n"
     ]
    }
   ],
   "source": [
    "api_key = \"27e9399d48b64ce99400c08715dcec36\"\n",
    "api_url = \"https://giles-openai-test.openai.azure.com/openai/deployments/giles-gpt-4o/chat/completions?api-version=2023-03-15-preview\"\n",
    "\n",
    "# Get user prompt\n",
    "prompt = str(input(\"Enter your prompt: \"))\n",
    "\n",
    "# Get response from Azure OpenAI\n",
    "response = get_response(prompt, api_key, api_url)\n",
    "\n",
    "if response:\n",
    "\n",
    "    response_JSON = response.json()\n",
    "    response_message = response_JSON[\"choices\"][0][\"message\"][\"content\"]\n",
    "\n",
    "    print(f\"User Prompt: {prompt}\")\n",
    "    print(f\"Response: {response_message}\")\n",
    "else:\n",
    "    print(\"No Response\")"
   ]
  },
  {
   "cell_type": "markdown",
   "metadata": {},
   "source": [
    "Prints out the content of the JSON"
   ]
  },
  {
   "cell_type": "code",
   "execution_count": 8,
   "metadata": {},
   "outputs": [
    {
     "name": "stdout",
     "output_type": "stream",
     "text": [
      "choices | [{'finish_reason': 'stop', 'index': 0, 'message': {'content': 'Hi there! How can I assist you today?', 'role': 'assistant'}}]\n",
      "created | 1727851646\n",
      "id | chatcmpl-ADnQs3yGSliTYoV6vweE30pYNzzit\n",
      "model | gpt-4o-2024-05-13\n",
      "object | chat.completion\n",
      "system_fingerprint | fp_67802d9a6d\n",
      "usage | {'completion_tokens': 10, 'prompt_tokens': 23, 'total_tokens': 33}\n"
     ]
    }
   ],
   "source": [
    "if response.status_code == 200:\n",
    "    for key, value in response_JSON.items():\n",
    "        print(f\"{key} | {value}\")\n",
    "else:\n",
    "    print(f\"Error: {response.status_code}\")"
   ]
  }
 ],
 "metadata": {
  "kernelspec": {
   "display_name": ".venv",
   "language": "python",
   "name": "python3"
  },
  "language_info": {
   "codemirror_mode": {
    "name": "ipython",
    "version": 3
   },
   "file_extension": ".py",
   "mimetype": "text/x-python",
   "name": "python",
   "nbconvert_exporter": "python",
   "pygments_lexer": "ipython3",
   "version": "3.12.6"
  }
 },
 "nbformat": 4,
 "nbformat_minor": 2
}
