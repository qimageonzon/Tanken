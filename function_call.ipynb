{
 "cells": [
  {
   "cell_type": "markdown",
   "metadata": {},
   "source": [
    "### Importing Packages"
   ]
  },
  {
   "cell_type": "code",
   "execution_count": 1,
   "metadata": {},
   "outputs": [],
   "source": [
    "import json\n",
    "from openai import AzureOpenAI"
   ]
  },
  {
   "cell_type": "markdown",
   "metadata": {},
   "source": [
    "### Defining custom functions\n",
    "\n",
    "In the cell below, custom functions are created"
   ]
  },
  {
   "cell_type": "code",
   "execution_count": 2,
   "metadata": {},
   "outputs": [],
   "source": [
    "def custom_alpha(number_list):\n",
    "    # Custom function\n",
    "    return (number_list[0] + number_list[1]) * (\n",
    "        2 * number_list[0] + (number_list[0] * number_list[1])\n",
    "    )\n",
    "\n",
    "\n",
    "def custom_beta(input_string):\n",
    "    # Custom function\n",
    "\n",
    "    working_string = input_string.lower()\n",
    "\n",
    "    # Split the string into words based on spaces\n",
    "    words = working_string.split()\n",
    "    # Sort the words\n",
    "    sorted_words = sorted(words)\n",
    "    # Reconstruct the string with spaces between sorted words\n",
    "    result = \" \".join(sorted_words)\n",
    "\n",
    "    return result"
   ]
  },
  {
   "cell_type": "markdown",
   "metadata": {},
   "source": [
    "### Setting up the client"
   ]
  },
  {
   "cell_type": "code",
   "execution_count": 3,
   "metadata": {},
   "outputs": [],
   "source": [
    "client = AzureOpenAI(\n",
    "    azure_endpoint=\"https://giles-openai-test.openai.azure.com/\",\n",
    "    api_key=\"27e9399d48b64ce99400c08715dcec36\",\n",
    "    api_version=\"2023-03-15-preview\",\n",
    ")\n",
    "\n",
    "deployment_name = \"giles-gpt-4o\""
   ]
  },
  {
   "cell_type": "markdown",
   "metadata": {},
   "source": [
    "### System prompt\n",
    "\n",
    "A system prompt is added to initialize how the model should \"act\""
   ]
  },
  {
   "cell_type": "code",
   "execution_count": 4,
   "metadata": {},
   "outputs": [],
   "source": [
    "system_prompt = \"You are an AI assistant. You are to assist the user on their requests. You also have access to certain functions. Please utilize them when necessary.\"\n",
    "\n",
    "message_list = [\n",
    "    {\n",
    "        \"role\": \"system\",\n",
    "        \"content\": system_prompt,\n",
    "    }\n",
    "]"
   ]
  },
  {
   "cell_type": "markdown",
   "metadata": {},
   "source": [
    "### Defining of tools\n",
    "\n",
    "Here are the tools accessible by the model"
   ]
  },
  {
   "cell_type": "code",
   "execution_count": 5,
   "metadata": {},
   "outputs": [],
   "source": [
    "tools = [\n",
    "    {\n",
    "        \"type\": \"function\",\n",
    "        \"function\": {\n",
    "            \"name\": \"custom_alpha\",\n",
    "            \"description\": \"Perform the Custom Alpha function on a list of numbers provided. Only do this when the user is specifically asking for custom alpha to be performed\",\n",
    "            \"parameters\": {\n",
    "                \"type\": \"object\",\n",
    "                \"properties\": {\n",
    "                    \"numbers\": {\n",
    "                        \"type\": \"array\",\n",
    "                        \"items\": {\"type\": \"number\"},\n",
    "                        \"description\": \"A list of numbers to perform the Custom Alpha function on. Example of a list is 2, 4, 8, and 16\",\n",
    "                    },\n",
    "                },\n",
    "                \"required\": [\"numbers\"],\n",
    "            },\n",
    "        },\n",
    "    },\n",
    "    {\n",
    "        \"type\": \"function\",\n",
    "        \"function\": {\n",
    "            \"name\": \"custom_beta\",\n",
    "            \"description\": \"Perform the Custom Beta function on a string. Only do this when the user is specifically asking for custom beta to be performed\",\n",
    "            \"parameters\": {\n",
    "                \"type\": \"object\",\n",
    "                \"properties\": {\n",
    "                    \"text\": {\n",
    "                        \"type\": \"string\",\n",
    "                        \"description\": \"A string to perform Custom Beta function on. Example is 'Hey I just met you'\",\n",
    "                    },\n",
    "                },\n",
    "                \"required\": [\"text\"],\n",
    "            },\n",
    "        },\n",
    "    },\n",
    "]"
   ]
  },
  {
   "cell_type": "markdown",
   "metadata": {},
   "source": [
    "### User interaction"
   ]
  },
  {
   "cell_type": "code",
   "execution_count": 6,
   "metadata": {},
   "outputs": [
    {
     "name": "stdout",
     "output_type": "stream",
     "text": [
      "\n",
      "Custom beta the following I, I loved you in secret First sight, yeah, we love without reason Oh, twenty-five years old Oh, how were you to know, and My, my love had been frozen Deep blue, but you painted me golden Oh, and you held me close Oh, how was I to know that\n",
      "\n"
     ]
    }
   ],
   "source": [
    "user_prompt = str(input(\"Enter your prompt: \"))\n",
    "\n",
    "print(f\"\\n{user_prompt}\\n\")\n",
    "\n",
    "message_list.append(\n",
    "    {\n",
    "        \"role\": \"user\",\n",
    "        \"content\": user_prompt,\n",
    "    }\n",
    ")"
   ]
  },
  {
   "cell_type": "markdown",
   "metadata": {},
   "source": [
    "### Response\n",
    "\n",
    "The prompt is sent to the model"
   ]
  },
  {
   "cell_type": "code",
   "execution_count": 7,
   "metadata": {},
   "outputs": [
    {
     "name": "stdout",
     "output_type": "stream",
     "text": [
      "Function arguments: {'text': 'I, I loved you in secret First sight, yeah, we love without reason Oh, twenty-five years old Oh, how were you to know, and My, my love had been frozen Deep blue, but you painted me golden Oh, and you held me close Oh, how was I to know that'}\n",
      "and and been blue, but close deep first frozen golden had held how how i i i, in know know, love love loved me me my my, oh, oh, oh, oh, old painted reason secret sight, that to to twenty-five was we were without yeah, years you you you you\n"
     ]
    }
   ],
   "source": [
    "response = client.chat.completions.create(\n",
    "    model=deployment_name,\n",
    "    messages=message_list,\n",
    "    tools=tools,\n",
    "    tool_choice=\"auto\",\n",
    ")\n",
    "\n",
    "response_message = response.choices[0].message\n",
    "message_list.append(response_message)\n",
    "\n",
    "tool_call_presence = False\n",
    "\n",
    "if response_message.tool_calls:\n",
    "\n",
    "    tool_call_presence = True\n",
    "\n",
    "    for tool_call in response_message.tool_calls:\n",
    "\n",
    "        if tool_call.function.name == \"custom_alpha\":\n",
    "\n",
    "            function_args = json.loads(tool_call.function.arguments)\n",
    "            print(f\"Function arguments: {function_args}\")\n",
    "\n",
    "            function_response = custom_alpha(\n",
    "                number_list=function_args.get(\"numbers\", [])\n",
    "            )\n",
    "\n",
    "            print(function_response)\n",
    "\n",
    "            message_list.append(\n",
    "                {\n",
    "                    \"tool_call_id\": tool_call.id,\n",
    "                    \"role\": \"tool\",\n",
    "                    \"name\": \"custom_alpha\",\n",
    "                    \"content\": str(function_response),\n",
    "                }\n",
    "            )\n",
    "\n",
    "        if tool_call.function.name == \"custom_beta\":\n",
    "\n",
    "            function_args = json.loads(tool_call.function.arguments)\n",
    "            print(f\"Function arguments: {function_args}\")\n",
    "\n",
    "            function_response = custom_beta(input_string=function_args.get(\"text\", []))\n",
    "\n",
    "            print(function_response)\n",
    "\n",
    "            message_list.append(\n",
    "                {\n",
    "                    \"tool_call_id\": tool_call.id,\n",
    "                    \"role\": \"tool\",\n",
    "                    \"name\": \"custom_beta\",\n",
    "                    \"content\": str(function_response),\n",
    "                }\n",
    "            )\n",
    "\n",
    "else:\n",
    "    tool_call_presence = False"
   ]
  },
  {
   "cell_type": "markdown",
   "metadata": {},
   "source": [
    "### Final Response\n",
    "\n",
    "If no function is called, we get the regular completion, where the model response to the prompt.\n",
    "\n",
    "If a function is called, the result of the function must be sent back to the model so that the model can return it in a conversational manner"
   ]
  },
  {
   "cell_type": "code",
   "execution_count": 8,
   "metadata": {},
   "outputs": [
    {
     "name": "stdout",
     "output_type": "stream",
     "text": [
      "Function Called\n",
      "User prompt: Custom beta the following I, I loved you in secret First sight, yeah, we love without reason Oh, twenty-five years old Oh, how were you to know, and My, my love had been frozen Deep blue, but you painted me golden Oh, and you held me close Oh, how was I to know that\n",
      "Model response: Here is the custom beta of your text:\n",
      "\n",
      "```\n",
      "and and been blue, but close deep first frozen golden had held how how i i i, in know know, love love loved me me my my, oh, oh, oh, oh, old painted reason secret sight, that to to twenty-five was we were without yeah, years you you you you\n",
      "```\n",
      "\n",
      "If you have any other requests or need further modifications, feel free to let me know!\n"
     ]
    }
   ],
   "source": [
    "if not tool_call_presence:\n",
    "    print(\"No Function Called\")\n",
    "    print(f\"User prompt: {user_prompt}\")\n",
    "    print(f\"Model response: {response_message.content}\")\n",
    "\n",
    "else:\n",
    "    print(\"Function Called\")\n",
    "    response = client.chat.completions.create(\n",
    "        model=deployment_name,\n",
    "        messages=message_list,\n",
    "    )\n",
    "\n",
    "    print(f\"User prompt: {user_prompt}\")\n",
    "    print(f\"Model response: {response.choices[0].message.content}\")\n"
   ]
  },
  {
   "cell_type": "markdown",
   "metadata": {},
   "source": [
    "### Extra"
   ]
  },
  {
   "cell_type": "code",
   "execution_count": 9,
   "metadata": {},
   "outputs": [
    {
     "name": "stdout",
     "output_type": "stream",
     "text": [
      "\n",
      "{'role': 'system', 'content': 'You are an AI assistant. You are to assist the user on their requests. You also have access to certain functions. Please utilize them when necessary.'}\n",
      "\n",
      "\n",
      "{'role': 'user', 'content': 'Custom beta the following I, I loved you in secret First sight, yeah, we love without reason Oh, twenty-five years old Oh, how were you to know, and My, my love had been frozen Deep blue, but you painted me golden Oh, and you held me close Oh, how was I to know that'}\n",
      "\n",
      "\n",
      "ChatCompletionMessage(content=None, refusal=None, role='assistant', function_call=None, tool_calls=[ChatCompletionMessageToolCall(id='call_pXxkm6jCuCqyJl6PLQuBOrmD', function=Function(arguments='{\"text\":\"I, I loved you in secret First sight, yeah, we love without reason Oh, twenty-five years old Oh, how were you to know, and My, my love had been frozen Deep blue, but you painted me golden Oh, and you held me close Oh, how was I to know that\"}', name='custom_beta'), type='function')])\n",
      "\n",
      "\n",
      "{'tool_call_id': 'call_pXxkm6jCuCqyJl6PLQuBOrmD', 'role': 'tool', 'name': 'custom_beta', 'content': 'and and been blue, but close deep first frozen golden had held how how i i i, in know know, love love loved me me my my, oh, oh, oh, oh, old painted reason secret sight, that to to twenty-five was we were without yeah, years you you you you'}\n",
      "\n"
     ]
    }
   ],
   "source": [
    "for message in message_list:\n",
    "    print(f\"\\n{message}\\n\")"
   ]
  },
  {
   "cell_type": "code",
   "execution_count": null,
   "metadata": {},
   "outputs": [],
   "source": []
  }
 ],
 "metadata": {
  "kernelspec": {
   "display_name": ".venv",
   "language": "python",
   "name": "python3"
  },
  "language_info": {
   "codemirror_mode": {
    "name": "ipython",
    "version": 3
   },
   "file_extension": ".py",
   "mimetype": "text/x-python",
   "name": "python",
   "nbconvert_exporter": "python",
   "pygments_lexer": "ipython3",
   "version": "3.12.6"
  }
 },
 "nbformat": 4,
 "nbformat_minor": 2
}
