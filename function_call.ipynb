{
 "cells": [
  {
   "cell_type": "markdown",
   "metadata": {},
   "source": [
    "### Importing Packages"
   ]
  },
  {
   "cell_type": "code",
   "execution_count": 136,
   "metadata": {},
   "outputs": [],
   "source": [
    "import json\n",
    "from openai import AzureOpenAI\n",
    "import requests\n",
    "from bs4 import BeautifulSoup"
   ]
  },
  {
   "cell_type": "markdown",
   "metadata": {},
   "source": [
    "### Defining custom functions\n",
    "\n",
    "In the cell below, custom functions are created"
   ]
  },
  {
   "cell_type": "code",
   "execution_count": 137,
   "metadata": {},
   "outputs": [],
   "source": [
    "def custom_alpha(number_list):\n",
    "    # Custom function\n",
    "    return (number_list[0] + number_list[1]) * (\n",
    "        2 * number_list[0] + (number_list[0] * number_list[1])\n",
    "    )\n",
    "\n",
    "\n",
    "def custom_beta(input_string):\n",
    "    # Custom function\n",
    "\n",
    "    working_string = input_string.lower()\n",
    "\n",
    "    # Split the string into words based on spaces\n",
    "    words = working_string.split()\n",
    "    # Sort the words\n",
    "    sorted_words = sorted(words)\n",
    "    # Reconstruct the string with spaces between sorted words\n",
    "    result = \" \".join(sorted_words)\n",
    "\n",
    "    return result\n",
    "\n",
    "\n",
    "def fetch_word_of_the_day():\n",
    "    url = \"https://www.merriam-webster.com/word-of-the-day\"\n",
    "    response = requests.get(url)\n",
    "\n",
    "    if response.status_code == 200:\n",
    "        soup = BeautifulSoup(response.content, \"html.parser\")\n",
    "\n",
    "        # The word of the day and definition are usually located in these tags\n",
    "        word_element = soup.find(\"h2\", class_=\"word-header-txt\")\n",
    "\n",
    "        if word_element:\n",
    "            word = word_element.text.strip()\n",
    "\n",
    "            return word\n",
    "        else:\n",
    "            return None\n",
    "    else:\n",
    "        return None"
   ]
  },
  {
   "cell_type": "markdown",
   "metadata": {},
   "source": [
    "### Setting up the client"
   ]
  },
  {
   "cell_type": "code",
   "execution_count": 138,
   "metadata": {},
   "outputs": [],
   "source": [
    "client = AzureOpenAI(\n",
    "    azure_endpoint=\"https://giles-openai-test.openai.azure.com/\",\n",
    "    api_key=\"27e9399d48b64ce99400c08715dcec36\",\n",
    "    api_version=\"2023-03-15-preview\",\n",
    ")\n",
    "\n",
    "deployment_name = \"giles-gpt-4o\""
   ]
  },
  {
   "cell_type": "markdown",
   "metadata": {},
   "source": [
    "### System prompt\n",
    "\n",
    "A system prompt is added to initialize how the model should \"act\""
   ]
  },
  {
   "cell_type": "code",
   "execution_count": 139,
   "metadata": {},
   "outputs": [],
   "source": [
    "system_prompt = \"\"\"\n",
    "You are an AI assistant. You are to assist the user on their requests. \n",
    "\n",
    "You also have access to certain functions. Please utilize them when the user has specifically requested them to be used.\n",
    "If the user has NOT specified them, do NOT use functions. Simply respond normally as if you don't have access to the functions.\n",
    "\n",
    "If the function name is similar to a phrase, please consult the condition of the function first. There may be specific conditions listed in tools when defining such function.\n",
    "If the conditions are not met, do NOT use the function.\n",
    "\n",
    "An example would be the phrase word of the day. You have access to fetch_word_of_the_day tool but only use it if the user asked for word of the day with Merriam-Webster present in the prompt.\n",
    "\"\"\"\n",
    "\n",
    "message_list = [\n",
    "    {\n",
    "        \"role\": \"system\",\n",
    "        \"content\": system_prompt,\n",
    "    }\n",
    "]"
   ]
  },
  {
   "cell_type": "markdown",
   "metadata": {},
   "source": [
    "### Defining of tools\n",
    "\n",
    "Here are the tools accessible by the model"
   ]
  },
  {
   "cell_type": "code",
   "execution_count": 140,
   "metadata": {},
   "outputs": [],
   "source": [
    "tools = [\n",
    "    {\n",
    "        \"type\": \"function\",\n",
    "        \"function\": {\n",
    "            \"name\": \"custom_alpha\",\n",
    "            \"description\": \"Perform the Custom Alpha function on a list of numbers provided\",\n",
    "            \"parameters\": {\n",
    "                \"type\": \"object\",\n",
    "                \"properties\": {\n",
    "                    \"numbers\": {\n",
    "                        \"type\": \"array\",\n",
    "                        \"items\": {\"type\": \"number\"},\n",
    "                        \"description\": \"A list of numbers\",\n",
    "                    },\n",
    "                },\n",
    "                \"required\": [\"numbers\"],\n",
    "            },\n",
    "        },\n",
    "    },\n",
    "    {\n",
    "        \"type\": \"function\",\n",
    "        \"function\": {\n",
    "            \"name\": \"custom_beta\",\n",
    "            \"description\": \"Perform the Custom Beta function on a string\",\n",
    "            \"parameters\": {\n",
    "                \"type\": \"object\",\n",
    "                \"properties\": {\n",
    "                    \"text\": {\n",
    "                        \"type\": \"string\",\n",
    "                        \"description\": \"A string\",\n",
    "                    },\n",
    "                },\n",
    "                \"required\": [\"text\"],\n",
    "            },\n",
    "        },\n",
    "    },\n",
    "    {\n",
    "        \"type\": \"function\",\n",
    "        \"function\": {\n",
    "            \"name\": \"fetch_word_of_the_day\",\n",
    "            \"description\": \"Fetch the word of the day from Merriam-Webster. Use only when user SPECIFICALLY ASKED for it to be from Merriam-Webster. Otherwise, give a random word\",\n",
    "            \"parameters\": {\n",
    "                \"type\": \"object\",\n",
    "                \"properties\": {\n",
    "                    \"placeholder\": {\n",
    "                        \"type\": \"string\",\n",
    "                        \"description\": \"Placeholder\",\n",
    "                    },\n",
    "                },\n",
    "                \"required\": [\"placeholder\"],\n",
    "            },\n",
    "        },\n",
    "    },\n",
    "]"
   ]
  },
  {
   "cell_type": "markdown",
   "metadata": {},
   "source": [
    "### User interaction"
   ]
  },
  {
   "cell_type": "code",
   "execution_count": 141,
   "metadata": {},
   "outputs": [
    {
     "name": "stdout",
     "output_type": "stream",
     "text": [
      "\n",
      "Tell me a random fun fact about birds. Perform custom alpha on 5,1. Do custom beta on \"birds are great\". Give me a random word of the day. Also give me the word of the day from merriam\n",
      "\n"
     ]
    }
   ],
   "source": [
    "user_prompt = str(input(\"Enter your prompt: \"))\n",
    "\n",
    "print(f\"\\n{user_prompt}\\n\")\n",
    "\n",
    "message_list.append(\n",
    "    {\n",
    "        \"role\": \"user\",\n",
    "        \"content\": user_prompt,\n",
    "    }\n",
    ")"
   ]
  },
  {
   "cell_type": "markdown",
   "metadata": {},
   "source": [
    "### Response\n",
    "\n",
    "The prompt is sent to the model"
   ]
  },
  {
   "cell_type": "code",
   "execution_count": 142,
   "metadata": {},
   "outputs": [
    {
     "name": "stdout",
     "output_type": "stream",
     "text": [
      "Function arguments: {'numbers': [5, 1]}\n",
      "90\n",
      "Function arguments: {'text': 'birds are great'}\n",
      "are birds great\n",
      "fret\n"
     ]
    }
   ],
   "source": [
    "response = client.chat.completions.create(\n",
    "    model=deployment_name,\n",
    "    messages=message_list,\n",
    "    tools=tools,\n",
    "    tool_choice=\"auto\",\n",
    ")\n",
    "\n",
    "response_message = response.choices[0].message\n",
    "message_list.append(response_message)\n",
    "\n",
    "tool_call_presence = False\n",
    "\n",
    "if response_message.tool_calls:\n",
    "\n",
    "    tool_call_presence = True\n",
    "\n",
    "    for tool_call in response_message.tool_calls:\n",
    "\n",
    "        if tool_call.function.name == \"custom_alpha\":\n",
    "\n",
    "            function_args = json.loads(tool_call.function.arguments)\n",
    "            print(f\"Function arguments: {function_args}\")\n",
    "\n",
    "            function_response = custom_alpha(\n",
    "                number_list=function_args.get(\"numbers\", [])\n",
    "            )\n",
    "\n",
    "            print(function_response)\n",
    "            function_response_string = f\"The result of the function is {function_response}. Please convey the result in a conversational manner\"\n",
    "\n",
    "            message_list.append(\n",
    "                {\n",
    "                    \"tool_call_id\": tool_call.id,\n",
    "                    \"role\": \"tool\",\n",
    "                    \"name\": \"custom_alpha\",\n",
    "                    \"content\": function_response_string,\n",
    "                }\n",
    "            )\n",
    "\n",
    "        if tool_call.function.name == \"custom_beta\":\n",
    "\n",
    "            function_args = json.loads(tool_call.function.arguments)\n",
    "            print(f\"Function arguments: {function_args}\")\n",
    "\n",
    "            function_response = custom_beta(input_string=function_args.get(\"text\", []))\n",
    "\n",
    "            print(function_response)\n",
    "            function_response_string = f\"The result of the function is {function_response}. Please convey the result in a conversational manner\"\n",
    "\n",
    "            message_list.append(\n",
    "                {\n",
    "                    \"tool_call_id\": tool_call.id,\n",
    "                    \"role\": \"tool\",\n",
    "                    \"name\": \"custom_beta\",\n",
    "                    \"content\": function_response_string,\n",
    "                }\n",
    "            )\n",
    "\n",
    "        if tool_call.function.name == \"fetch_word_of_the_day\":\n",
    "\n",
    "            function_response = fetch_word_of_the_day()\n",
    "\n",
    "            print(function_response)\n",
    "            function_response_string = f\"The result of the function is {function_response}. Please convey the result in a conversational manner\"\n",
    "\n",
    "            message_list.append(\n",
    "                {\n",
    "                    \"tool_call_id\": tool_call.id,\n",
    "                    \"role\": \"tool\",\n",
    "                    \"name\": \"fetch_word_of_the_day\",\n",
    "                    \"content\": function_response_string,\n",
    "                }\n",
    "            )\n",
    "\n",
    "else:\n",
    "    tool_call_presence = False"
   ]
  },
  {
   "cell_type": "markdown",
   "metadata": {},
   "source": [
    "### Final Response\n",
    "\n",
    "If no function is called, we get the regular completion, where the model response to the prompt.\n",
    "\n",
    "If a function is called, the result of the function must be sent back to the model so that the model can return it in a conversational manner"
   ]
  },
  {
   "cell_type": "code",
   "execution_count": 143,
   "metadata": {},
   "outputs": [
    {
     "name": "stdout",
     "output_type": "stream",
     "text": [
      "Function Called\n",
      "\n",
      "\n",
      "\n",
      "\n",
      "User prompt: Tell me a random fun fact about birds. Perform custom alpha on 5,1. Do custom beta on \"birds are great\". Give me a random word of the day. Also give me the word of the day from merriam\n",
      "Model response: Here's a random fun fact about birds: Did you know that owls are the only birds that can see the color blue?\n",
      "\n",
      "For the custom operations you asked for:\n",
      "- The result of `custom_alpha` on 5 and 1 is **90**.\n",
      "- The result of `custom_beta` on \"birds are great\" is **\"are birds great\"**.\n",
      "\n",
      "As for the word of the day, a random word of the day is **\"fret\"**.\n",
      "\n",
      "You requested the word of the day from Merriam-Webster specifically, but I can only provide it if you explicitly mention Merriam-Webster in your prompt. If you still need it, please let me know!\n"
     ]
    }
   ],
   "source": [
    "if not tool_call_presence:\n",
    "    print(\"No Function Called\\n\\n\\n\\n\")\n",
    "    print(f\"User prompt: {user_prompt}\")\n",
    "    print(f\"Model response: {response_message.content}\")\n",
    "\n",
    "else:\n",
    "    print(\"Function Called\\n\\n\\n\\n\")\n",
    "    response = client.chat.completions.create(\n",
    "        model=deployment_name,\n",
    "        messages=message_list,\n",
    "    )\n",
    "\n",
    "    print(f\"User prompt: {user_prompt}\")\n",
    "    print(f\"Model response: {response.choices[0].message.content}\")\n"
   ]
  },
  {
   "cell_type": "markdown",
   "metadata": {},
   "source": [
    "### Extra"
   ]
  },
  {
   "cell_type": "code",
   "execution_count": 144,
   "metadata": {},
   "outputs": [
    {
     "name": "stdout",
     "output_type": "stream",
     "text": [
      "\n",
      "{'role': 'system', 'content': \"\\nYou are an AI assistant. You are to assist the user on their requests. \\n\\nYou also have access to certain functions. Please utilize them when the user has specifically requested them to be used.\\nIf the user has NOT specified them, do NOT use functions. Simply respond normally as if you don't have access to the functions.\\n\\nIf the function name is similar to a phrase, please consult the condition of the function first. There may be specific conditions listed in tools when defining such function.\\nIf the conditions are not met, do NOT use the function.\\n\\nAn example would be the phrase word of the day. You have access to fetch_word_of_the_day tool but only use it if the user asked for word of the day with Merriam-Webster present in the prompt.\\n\"}\n",
      "\n",
      "\n",
      "{'role': 'user', 'content': 'Tell me a random fun fact about birds. Perform custom alpha on 5,1. Do custom beta on \"birds are great\". Give me a random word of the day. Also give me the word of the day from merriam'}\n",
      "\n",
      "\n",
      "ChatCompletionMessage(content=None, refusal=None, role='assistant', function_call=None, tool_calls=[ChatCompletionMessageToolCall(id='call_L9EkPcJ91JcZrXfhMu3QqK8m', function=Function(arguments='{\"numbers\": [5, 1]}', name='custom_alpha'), type='function'), ChatCompletionMessageToolCall(id='call_4o77odEgki64c4fuqJmyeViR', function=Function(arguments='{\"text\": \"birds are great\"}', name='custom_beta'), type='function'), ChatCompletionMessageToolCall(id='call_rBdszVDioiZ1qY3q8YujPDDi', function=Function(arguments='{\"placeholder\": \"\"}', name='fetch_word_of_the_day'), type='function')])\n",
      "\n",
      "\n",
      "{'tool_call_id': 'call_L9EkPcJ91JcZrXfhMu3QqK8m', 'role': 'tool', 'name': 'custom_alpha', 'content': 'The result of the function is 90. Please convey the result in a conversational manner'}\n",
      "\n",
      "\n",
      "{'tool_call_id': 'call_4o77odEgki64c4fuqJmyeViR', 'role': 'tool', 'name': 'custom_beta', 'content': 'The result of the function is are birds great. Please convey the result in a conversational manner'}\n",
      "\n",
      "\n",
      "{'tool_call_id': 'call_rBdszVDioiZ1qY3q8YujPDDi', 'role': 'tool', 'name': 'fetch_word_of_the_day', 'content': 'The result of the function is fret. Please convey the result in a conversational manner'}\n",
      "\n"
     ]
    }
   ],
   "source": [
    "for message in message_list:\n",
    "    print(f\"\\n{message}\\n\")"
   ]
  },
  {
   "cell_type": "code",
   "execution_count": null,
   "metadata": {},
   "outputs": [],
   "source": []
  }
 ],
 "metadata": {
  "kernelspec": {
   "display_name": ".venv",
   "language": "python",
   "name": "python3"
  },
  "language_info": {
   "codemirror_mode": {
    "name": "ipython",
    "version": 3
   },
   "file_extension": ".py",
   "mimetype": "text/x-python",
   "name": "python",
   "nbconvert_exporter": "python",
   "pygments_lexer": "ipython3",
   "version": "3.12.6"
  }
 },
 "nbformat": 4,
 "nbformat_minor": 2
}
