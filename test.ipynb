{
 "cells": [
  {
   "cell_type": "code",
   "execution_count": 1,
   "metadata": {},
   "outputs": [],
   "source": [
    "import requests\n",
    "import json"
   ]
  },
  {
   "cell_type": "code",
   "execution_count": 2,
   "metadata": {},
   "outputs": [],
   "source": [
    "def get_response(prompt, api_key, api_url):\n",
    "\n",
    "    # Headers for the HTTP request\n",
    "    headers = {\n",
    "        \"Content-Type\": \"application/json\",\n",
    "        \"api-key\": api_key,\n",
    "    }\n",
    "\n",
    "    # Data payload for the HTTP request\n",
    "    data = {\n",
    "        \"prompt\": prompt,\n",
    "        \"temperature\": 0.7,\n",
    "        \"max_tokens\": 100,\n",
    "    }\n",
    "\n",
    "    # Make the POST request to the API\n",
    "    response = requests.post(api_url, headers=headers, data=json.dumps(data))\n",
    "\n",
    "    # Check for a successful response\n",
    "    if response.status_code == 200:\n",
    "        response_data = response.json()\n",
    "        return response_data[\"choices\"][0][\"text\"].strip()\n",
    "    else:\n",
    "        print(f\"Error: {response.status_code}\")\n",
    "        print(response.text)\n",
    "        return None"
   ]
  },
  {
   "cell_type": "code",
   "execution_count": 3,
   "metadata": {},
   "outputs": [
    {
     "name": "stdout",
     "output_type": "stream",
     "text": [
      "Error: 400\n",
      "Unsupported data type\n",
      "\n"
     ]
    }
   ],
   "source": [
    "if __name__ == \"__main__\":\n",
    "    api_key = \"27e9399d48b64ce99400c08715dcec36\"\n",
    "    api_url = \"https://giles-openai-test.openai.azure.com/openai/deployments/test-gpt-4o/chat/completions?api-version=2023-03-15-preview\"\n",
    "\n",
    "    # Get user prompt\n",
    "    prompt = input(\"Enter your prompt: \")\n",
    "\n",
    "    # Get response from Azure OpenAI\n",
    "    response = get_response(prompt, api_key, api_url)\n",
    "\n",
    "    if response:\n",
    "        print(\"Response from Azure OpenAI:\")\n",
    "        print(response)"
   ]
  }
 ],
 "metadata": {
  "kernelspec": {
   "display_name": ".venv",
   "language": "python",
   "name": "python3"
  },
  "language_info": {
   "codemirror_mode": {
    "name": "ipython",
    "version": 3
   },
   "file_extension": ".py",
   "mimetype": "text/x-python",
   "name": "python",
   "nbconvert_exporter": "python",
   "pygments_lexer": "ipython3",
   "version": "3.12.6"
  }
 },
 "nbformat": 4,
 "nbformat_minor": 2
}
